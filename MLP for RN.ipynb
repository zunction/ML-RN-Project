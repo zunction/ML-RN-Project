{
 "cells": [
  {
   "cell_type": "code",
   "execution_count": 1,
   "metadata": {},
   "outputs": [
    {
     "name": "stderr",
     "output_type": "stream",
     "text": [
      "Using TensorFlow backend.\n"
     ]
    }
   ],
   "source": [
    "import keras\n",
    "from keras import callbacks\n",
    "from keras.datasets import mnist\n",
    "from keras.models import *\n",
    "from keras.layers import *\n",
    "from keras.optimizers import *\n",
    "from keras import backend as K\n",
    "\n",
    "import numpy as np\n",
    "import matplotlib.pyplot as plt\n",
    "%matplotlib inline\n",
    "%config InlineBackend.figure_format = 'retina'\n",
    "plt.style.use('ggplot')"
   ]
  },
  {
   "cell_type": "code",
   "execution_count": 2,
   "metadata": {},
   "outputs": [
    {
     "name": "stdout",
     "output_type": "stream",
     "text": [
      "(9995, 190, 1536)\n",
      "(9995,)\n"
     ]
    }
   ],
   "source": [
    "RN_input = np.load('RN_input.npy')\n",
    "a = np.load('a.npy')\n",
    "print (RN_input.shape)\n",
    "print (a.shape)"
   ]
  },
  {
   "cell_type": "code",
   "execution_count": 3,
   "metadata": {},
   "outputs": [
    {
     "name": "stdout",
     "output_type": "stream",
     "text": [
      "(1000, 190, 1536)\n",
      "(1000,)\n"
     ]
    }
   ],
   "source": [
    "RN_input_small = RN_input[0:1000]\n",
    "a_small = a[0:1000]\n",
    "print (RN_input_small.shape)\n",
    "print (a_small.shape)"
   ]
  },
  {
   "cell_type": "code",
   "execution_count": 4,
   "metadata": {},
   "outputs": [],
   "source": [
    "from sklearn import preprocessing\n",
    "le = preprocessing.LabelEncoder()\n",
    "le.fit(a_small)\n",
    "train_labels = le.transform(a_small)"
   ]
  },
  {
   "cell_type": "code",
   "execution_count": 5,
   "metadata": {},
   "outputs": [],
   "source": [
    "np.unique(train_labels)\n",
    "l = len(np.unique(train_labels))"
   ]
  },
  {
   "cell_type": "code",
   "execution_count": 6,
   "metadata": {},
   "outputs": [
    {
     "name": "stdout",
     "output_type": "stream",
     "text": [
      "[[0. 0. 1. 0. 0. 0.]\n",
      " [0. 0. 1. 0. 0. 0.]\n",
      " [0. 0. 0. 1. 0. 0.]\n",
      " ...\n",
      " [0. 0. 0. 0. 0. 1.]\n",
      " [0. 0. 0. 0. 0. 1.]\n",
      " [0. 0. 0. 0. 0. 1.]]\n"
     ]
    }
   ],
   "source": [
    "one_hot_labels = keras.utils.to_categorical(train_labels, num_classes=l)\n",
    "print (one_hot_labels)"
   ]
  },
  {
   "cell_type": "code",
   "execution_count": 9,
   "metadata": {},
   "outputs": [],
   "source": [
    "batch_size = 1\n",
    "factor = 1\n",
    "input_shape = RN_input_small.shape[1:3]\n",
    "g_units = [256,256,256,256]*factor\n",
    "\n",
    "inputs = Input((input_shape))\n",
    "g1 = Dense(g_units[0], activation = 'relu')(inputs)\n",
    "g2 = Dense(g_units[1], activation = 'relu')(g1)\n",
    "g3 = Dense(g_units[2], activation = 'relu')(g2)\n",
    "g4 = Dense(g_units[3], activation = 'relu')(g3)\n",
    "# g_out = Reshape((-1, batch_size, g_units[3]))(g4)\n",
    "g_sum = Lambda(lambda x: K.sum(x, axis=1))(g4)\n",
    "\n",
    "\n",
    "f_units = [256*factor,512*factor,l] # for first 10 samples of the RN_input\n",
    "\n",
    "f1 = Dense(f_units[0], activation = 'relu')(g_sum)\n",
    "f2 = Dense(f_units[1], activation = 'relu')(f1)\n",
    "f3 = Dense(f_units[2], activation = 'softmax')(f2)  "
   ]
  },
  {
   "cell_type": "code",
   "execution_count": 10,
   "metadata": {},
   "outputs": [
    {
     "name": "stderr",
     "output_type": "stream",
     "text": [
      "/home/nvaitc/anaconda3/envs/rn/lib/python3.5/site-packages/ipykernel_launcher.py:1: UserWarning: Update your `Model` call to the Keras 2 API: `Model(outputs=Tensor(\"de..., inputs=Tensor(\"in...)`\n",
      "  \"\"\"Entry point for launching an IPython kernel.\n"
     ]
    }
   ],
   "source": [
    "model = Model(input = inputs, output = f3)"
   ]
  },
  {
   "cell_type": "code",
   "execution_count": 11,
   "metadata": {},
   "outputs": [
    {
     "name": "stdout",
     "output_type": "stream",
     "text": [
      "_________________________________________________________________\n",
      "Layer (type)                 Output Shape              Param #   \n",
      "=================================================================\n",
      "input_1 (InputLayer)         (None, 190, 1536)         0         \n",
      "_________________________________________________________________\n",
      "dense_1 (Dense)              (None, 190, 256)          393472    \n",
      "_________________________________________________________________\n",
      "dense_2 (Dense)              (None, 190, 256)          65792     \n",
      "_________________________________________________________________\n",
      "dense_3 (Dense)              (None, 190, 256)          65792     \n",
      "_________________________________________________________________\n",
      "dense_4 (Dense)              (None, 190, 256)          65792     \n",
      "_________________________________________________________________\n",
      "lambda_1 (Lambda)            (None, 256)               0         \n",
      "_________________________________________________________________\n",
      "dense_5 (Dense)              (None, 256)               65792     \n",
      "_________________________________________________________________\n",
      "dense_6 (Dense)              (None, 512)               131584    \n",
      "_________________________________________________________________\n",
      "dense_7 (Dense)              (None, 6)                 3078      \n",
      "=================================================================\n",
      "Total params: 791,302\n",
      "Trainable params: 791,302\n",
      "Non-trainable params: 0\n",
      "_________________________________________________________________\n"
     ]
    }
   ],
   "source": [
    "model.summary()"
   ]
  },
  {
   "cell_type": "code",
   "execution_count": 12,
   "metadata": {},
   "outputs": [],
   "source": [
    "model.compile(optimizer = Adam(lr = 2e-4), loss = 'categorical_crossentropy', metrics = ['accuracy'])"
   ]
  },
  {
   "cell_type": "code",
   "execution_count": 13,
   "metadata": {},
   "outputs": [],
   "source": [
    "# model_checkpoints = callbacks.ModelCheckpoint(\"weights_{epoch:02d}_{val_loss:.2f}.h5\", monitor='val_loss',\n",
    "#                                                     verbose=1, save_best_only=True, save_weights_only=False, mode='auto', period=1)"
   ]
  },
  {
   "cell_type": "code",
   "execution_count": null,
   "metadata": {},
   "outputs": [
    {
     "name": "stdout",
     "output_type": "stream",
     "text": [
      "Train on 900 samples, validate on 100 samples\n",
      "Epoch 1/200\n",
      "900/900 [==============================] - 6s 7ms/step - loss: 1.8431 - acc: 0.2133 - val_loss: 1.8043 - val_acc: 0.1700\n",
      "Epoch 2/200\n",
      "900/900 [==============================] - 1s 1ms/step - loss: 1.7737 - acc: 0.2344 - val_loss: 1.8463 - val_acc: 0.1900\n",
      "Epoch 3/200\n",
      "900/900 [==============================] - 1s 2ms/step - loss: 1.7479 - acc: 0.2444 - val_loss: 1.7746 - val_acc: 0.2100\n",
      "Epoch 4/200\n",
      "900/900 [==============================] - 1s 1ms/step - loss: 1.7229 - acc: 0.2767 - val_loss: 1.8397 - val_acc: 0.1800\n",
      "Epoch 5/200\n",
      "900/900 [==============================] - 1s 1ms/step - loss: 1.7387 - acc: 0.2456 - val_loss: 1.8954 - val_acc: 0.1200\n",
      "Epoch 6/200\n",
      "900/900 [==============================] - 1s 2ms/step - loss: 1.6893 - acc: 0.2822 - val_loss: 1.9079 - val_acc: 0.1700\n",
      "Epoch 7/200\n",
      "900/900 [==============================] - 1s 1ms/step - loss: 1.6793 - acc: 0.3100 - val_loss: 1.8672 - val_acc: 0.1700\n",
      "Epoch 8/200\n",
      "900/900 [==============================] - 1s 2ms/step - loss: 1.6804 - acc: 0.3000 - val_loss: 1.8651 - val_acc: 0.2000\n",
      "Epoch 9/200\n",
      "900/900 [==============================] - 1s 2ms/step - loss: 1.6245 - acc: 0.3267 - val_loss: 1.8618 - val_acc: 0.2400\n",
      "Epoch 10/200\n",
      "900/900 [==============================] - 1s 2ms/step - loss: 1.6345 - acc: 0.3478 - val_loss: 1.8379 - val_acc: 0.2000\n",
      "Epoch 11/200\n",
      "900/900 [==============================] - 1s 1ms/step - loss: 1.5803 - acc: 0.3633 - val_loss: 1.9301 - val_acc: 0.2100\n",
      "Epoch 12/200\n",
      "900/900 [==============================] - 1s 2ms/step - loss: 1.5242 - acc: 0.3922 - val_loss: 1.9054 - val_acc: 0.2600\n",
      "Epoch 13/200\n",
      "900/900 [==============================] - 1s 2ms/step - loss: 1.4526 - acc: 0.4167 - val_loss: 1.9301 - val_acc: 0.2600\n",
      "Epoch 14/200\n",
      "352/900 [==========>...................] - ETA: 0s - loss: 1.5108 - acc: 0.4062"
     ]
    }
   ],
   "source": [
    "model.fit(x = RN_input_small, \n",
    "          y = one_hot_labels, \n",
    "          epochs=200, \n",
    "          validation_split= 0.1, \n",
    "#           callbacks=[model_checkpoints]\n",
    "         )"
   ]
  },
  {
   "cell_type": "code",
   "execution_count": null,
   "metadata": {},
   "outputs": [],
   "source": []
  },
  {
   "cell_type": "code",
   "execution_count": null,
   "metadata": {},
   "outputs": [],
   "source": []
  },
  {
   "cell_type": "code",
   "execution_count": null,
   "metadata": {},
   "outputs": [],
   "source": []
  },
  {
   "cell_type": "code",
   "execution_count": null,
   "metadata": {},
   "outputs": [],
   "source": []
  },
  {
   "cell_type": "code",
   "execution_count": null,
   "metadata": {},
   "outputs": [],
   "source": []
  },
  {
   "cell_type": "code",
   "execution_count": null,
   "metadata": {},
   "outputs": [],
   "source": []
  },
  {
   "cell_type": "code",
   "execution_count": null,
   "metadata": {},
   "outputs": [],
   "source": []
  },
  {
   "cell_type": "code",
   "execution_count": null,
   "metadata": {},
   "outputs": [],
   "source": []
  },
  {
   "cell_type": "code",
   "execution_count": null,
   "metadata": {},
   "outputs": [],
   "source": []
  },
  {
   "cell_type": "code",
   "execution_count": null,
   "metadata": {},
   "outputs": [],
   "source": []
  },
  {
   "cell_type": "code",
   "execution_count": null,
   "metadata": {},
   "outputs": [],
   "source": []
  },
  {
   "cell_type": "code",
   "execution_count": null,
   "metadata": {},
   "outputs": [],
   "source": []
  },
  {
   "cell_type": "code",
   "execution_count": null,
   "metadata": {},
   "outputs": [],
   "source": []
  },
  {
   "cell_type": "code",
   "execution_count": null,
   "metadata": {},
   "outputs": [],
   "source": []
  },
  {
   "cell_type": "code",
   "execution_count": null,
   "metadata": {},
   "outputs": [],
   "source": []
  },
  {
   "cell_type": "code",
   "execution_count": null,
   "metadata": {},
   "outputs": [],
   "source": []
  },
  {
   "cell_type": "code",
   "execution_count": null,
   "metadata": {},
   "outputs": [],
   "source": []
  }
 ],
 "metadata": {
  "kernelspec": {
   "display_name": "Python 3",
   "language": "python",
   "name": "python3"
  },
  "language_info": {
   "codemirror_mode": {
    "name": "ipython",
    "version": 3
   },
   "file_extension": ".py",
   "mimetype": "text/x-python",
   "name": "python",
   "nbconvert_exporter": "python",
   "pygments_lexer": "ipython3",
   "version": "3.5.6"
  }
 },
 "nbformat": 4,
 "nbformat_minor": 2
}
