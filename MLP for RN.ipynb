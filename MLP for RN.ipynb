{
 "cells": [
  {
   "cell_type": "code",
   "execution_count": 1,
   "metadata": {},
   "outputs": [
    {
     "name": "stderr",
     "output_type": "stream",
     "text": [
      "Using TensorFlow backend.\n"
     ]
    }
   ],
   "source": [
    "import keras\n",
    "from keras import callbacks\n",
    "from keras.datasets import mnist\n",
    "from keras.models import *\n",
    "from keras.layers import *\n",
    "from keras.optimizers import *\n",
    "from keras import backend as K\n",
    "\n",
    "import numpy as np\n",
    "import matplotlib.pyplot as plt\n",
    "%matplotlib inline\n",
    "%config InlineBackend.figure_format = 'retina'\n",
    "plt.style.use('ggplot')"
   ]
  },
  {
   "cell_type": "code",
   "execution_count": 2,
   "metadata": {},
   "outputs": [],
   "source": [
    "# out = np.load('out.npy')\n",
    "# c = np.load('c.npy')\n",
    "# l = np.load('l.npy')\n",
    "# q = np.load('q.npy')\n",
    "a = np.load('a.npy')"
   ]
  },
  {
   "cell_type": "code",
   "execution_count": 4,
   "metadata": {},
   "outputs": [],
   "source": [
    "# a_int = [0,0,1,1,2,0,3,3,3,1]\n",
    "from sklearn import preprocessing\n",
    "le = preprocessing.LabelEncoder()\n",
    "le.fit(['garden', 'garden', 'hallway', 'hallway', 'kitchen', 'garden', 'bedroom',\n",
    " 'bedroom', 'bedroom', 'hallway'])\n",
    "train_labels = le.transform(['garden', 'garden', 'hallway', 'hallway', 'kitchen', 'garden', 'bedroom',\n",
    " 'bedroom', 'bedroom', 'hallway'])"
   ]
  },
  {
   "cell_type": "code",
   "execution_count": 5,
   "metadata": {},
   "outputs": [
    {
     "data": {
      "text/plain": [
       "array([1, 1, 2, 2, 3, 1, 0, 0, 0, 2], dtype=int64)"
      ]
     },
     "execution_count": 5,
     "metadata": {},
     "output_type": "execute_result"
    }
   ],
   "source": [
    "train_labels"
   ]
  },
  {
   "cell_type": "code",
   "execution_count": 6,
   "metadata": {},
   "outputs": [
    {
     "name": "stdout",
     "output_type": "stream",
     "text": [
      "[[0. 1. 0. 0.]\n",
      " [0. 1. 0. 0.]\n",
      " [0. 0. 1. 0.]\n",
      " [0. 0. 1. 0.]\n",
      " [0. 0. 0. 1.]\n",
      " [0. 1. 0. 0.]\n",
      " [1. 0. 0. 0.]\n",
      " [1. 0. 0. 0.]\n",
      " [1. 0. 0. 0.]\n",
      " [0. 0. 1. 0.]]\n"
     ]
    }
   ],
   "source": [
    "one_hot_labels = keras.utils.to_categorical(train_labels, num_classes=4)\n",
    "print (one_hot_labels)"
   ]
  },
  {
   "cell_type": "code",
   "execution_count": 7,
   "metadata": {},
   "outputs": [],
   "source": [
    "RN_input_small = np.load('RN_input_small.npy')"
   ]
  },
  {
   "cell_type": "code",
   "execution_count": 8,
   "metadata": {},
   "outputs": [
    {
     "data": {
      "text/plain": [
       "(10, 190, 1536)"
      ]
     },
     "execution_count": 8,
     "metadata": {},
     "output_type": "execute_result"
    }
   ],
   "source": [
    "RN_input_small.shape"
   ]
  },
  {
   "cell_type": "code",
   "execution_count": 9,
   "metadata": {},
   "outputs": [],
   "source": [
    "#  def g_theta(self, RN_input, scope='g_theta', reuse = True, phase = True):\n",
    "#         \"\"\"\n",
    "#         Args\n",
    "#             RN_input: [o_i, o_j, q], shape = [batch_size*190, 136]\n",
    "#         Returns\n",
    "#             g_output: shape = [190, batch_size, 256]\n",
    "#         \"\"\"\n",
    "#         input_dim = RN_input.shape[1]\n",
    "#         g_units = [256,256,256,256]\n",
    "#         with tf.variable_scope(scope, reuse = reuse) as scope:\n",
    "#             g_1 = self.batch_norm_relu(RN_input, g_units[0], scope= 'g_1', phase = phase)\n",
    "#             g_2 = self.batch_norm_relu(g_1, g_units[1], scope='g_2', phase=phase)\n",
    "#             g_3 = self.batch_norm_relu(g_2, g_units[2], scope='g_3', phase=phase)\n",
    "#             g_4 = self.batch_norm_relu(g_3, g_units[3], scope='g_4', phase=phase)\n",
    "#         g_output = tf.reshape(g_4, shape= [-1, self.batch_size, g_units[3]])\n",
    "#         return g_output"
   ]
  },
  {
   "cell_type": "code",
   "execution_count": 10,
   "metadata": {},
   "outputs": [],
   "source": [
    "def g_theta(RN_input, batch_size = 1):\n",
    "    \"\"\"\n",
    "    \n",
    "    \"\"\"\n",
    "    input_shape = RN_input.shape[2]\n",
    "    g_units = [256,256,256,256]\n",
    "    \n",
    "    inputs = Input((input_shape,))\n",
    "    g1 = Dense(g_units[0], activation = 'relu')(inputs)\n",
    "    g2 = Dense(g_units[1], activation = 'relu')(g1)\n",
    "    g3 = Dense(g_units[2], activation = 'relu')(g2)\n",
    "    g4 = Dense(g_units[3], activation = 'relu')(g3)\n",
    "    g_out = Reshape((-1, batch_size, g_units[3]))(g4)\n",
    "    g_sum = K.sum(g_out, axis = 0)    \n",
    "    \n",
    "    return g_sum"
   ]
  },
  {
   "cell_type": "code",
   "execution_count": 11,
   "metadata": {},
   "outputs": [],
   "source": [
    "def f_phi(g_sum):\n",
    "    \"\"\"\n",
    "    f_units[2] is set to be 6 as there are only 6 unique answers for \n",
    "    task 2.\n",
    "    \"\"\"\n",
    "    f_units = [256,512,6]\n",
    "    \n",
    "    f1 = Dense(f_units[0], activation = 'relu')(g_sum)\n",
    "    f2 = Dense(f_units[1], activation = 'relu')(f1)\n",
    "    f3 = Dense(f_units[2], activation = 'relu')(f2)\n",
    "    \n",
    "    return f3   "
   ]
  },
  {
   "cell_type": "code",
   "execution_count": 12,
   "metadata": {},
   "outputs": [],
   "source": [
    "def build(RN_input):\n",
    "    \"\"\"\n",
    "    \"\"\"\n",
    "    f_input = g_theta(RN_input)\n",
    "    pred = f_phi(f_input)\n",
    "    \n",
    "    return pred\n"
   ]
  },
  {
   "cell_type": "code",
   "execution_count": 13,
   "metadata": {},
   "outputs": [
    {
     "data": {
      "text/plain": [
       "(190, 1536)"
      ]
     },
     "execution_count": 13,
     "metadata": {},
     "output_type": "execute_result"
    }
   ],
   "source": [
    "RN_input_small.shape[1:3]"
   ]
  },
  {
   "cell_type": "code",
   "execution_count": 28,
   "metadata": {},
   "outputs": [],
   "source": [
    "batch_size = 1\n",
    "\n",
    "input_shape = RN_input_small.shape[1:3]\n",
    "g_units = [256,256,256,256]\n",
    "\n",
    "inputs = Input((input_shape))\n",
    "g1 = Dense(g_units[0], activation = 'relu')(inputs)\n",
    "g2 = Dense(g_units[1], activation = 'relu')(g1)\n",
    "g3 = Dense(g_units[2], activation = 'relu')(g2)\n",
    "g4 = Dense(g_units[3], activation = 'relu')(g3)\n",
    "# g_out = Reshape((-1, batch_size, g_units[3]))(g4)\n",
    "# g_sum = Lambda(lambda x: K.sum(x, axis=1))(g_out)\n",
    "\n",
    "\n",
    "f_units = [256,512,4] # for first 10 samples of the RN_input\n",
    "\n",
    "f1 = Dense(f_units[0], activation = 'relu')(g_sum)\n",
    "f2 = Dense(f_units[1], activation = 'relu')(f1)\n",
    "f3 = Dense(f_units[2], activation = 'softmax')(f2)\n",
    "f3 = Flatten()(f3)\n",
    "    "
   ]
  },
  {
   "cell_type": "code",
   "execution_count": 29,
   "metadata": {},
   "outputs": [
    {
     "name": "stderr",
     "output_type": "stream",
     "text": [
      "C:\\Users\\zlai\\AppData\\Local\\Continuum\\anaconda3\\envs\\rn\\lib\\site-packages\\ipykernel_launcher.py:1: UserWarning: Update your `Model` call to the Keras 2 API: `Model(inputs=Tensor(\"in..., outputs=Tensor(\"fl...)`\n",
      "  \"\"\"Entry point for launching an IPython kernel.\n"
     ]
    }
   ],
   "source": [
    "model = Model(input = inputs, output = f3)"
   ]
  },
  {
   "cell_type": "code",
   "execution_count": 30,
   "metadata": {},
   "outputs": [
    {
     "name": "stdout",
     "output_type": "stream",
     "text": [
      "_________________________________________________________________\n",
      "Layer (type)                 Output Shape              Param #   \n",
      "=================================================================\n",
      "input_4 (InputLayer)         (None, 190, 1536)         0         \n",
      "_________________________________________________________________\n",
      "dense_22 (Dense)             (None, 190, 256)          393472    \n",
      "_________________________________________________________________\n",
      "dense_23 (Dense)             (None, 190, 256)          65792     \n",
      "_________________________________________________________________\n",
      "dense_24 (Dense)             (None, 190, 256)          65792     \n",
      "_________________________________________________________________\n",
      "dense_25 (Dense)             (None, 190, 256)          65792     \n",
      "_________________________________________________________________\n",
      "reshape_4 (Reshape)          (None, 190, 1, 256)       0         \n",
      "_________________________________________________________________\n",
      "lambda_4 (Lambda)            (None, 1, 256)            0         \n",
      "_________________________________________________________________\n",
      "dense_26 (Dense)             (None, 1, 256)            65792     \n",
      "_________________________________________________________________\n",
      "dense_27 (Dense)             (None, 1, 512)            131584    \n",
      "_________________________________________________________________\n",
      "dense_28 (Dense)             (None, 1, 4)              2052      \n",
      "_________________________________________________________________\n",
      "flatten_3 (Flatten)          (None, 4)                 0         \n",
      "=================================================================\n",
      "Total params: 790,276\n",
      "Trainable params: 790,276\n",
      "Non-trainable params: 0\n",
      "_________________________________________________________________\n"
     ]
    }
   ],
   "source": [
    "model.summary()"
   ]
  },
  {
   "cell_type": "code",
   "execution_count": 22,
   "metadata": {},
   "outputs": [],
   "source": [
    "model.compile(optimizer = Adam(lr = 2e-4), loss = 'categorical_crossentropy', metrics = ['accuracy'])"
   ]
  },
  {
   "cell_type": "code",
   "execution_count": 23,
   "metadata": {},
   "outputs": [],
   "source": [
    "# model_checkpoints = callbacks.ModelCheckpoint(\"weights_{epoch:02d}_{val_loss:.2f}.h5\", monitor='val_loss',\n",
    "#                                                     verbose=1, save_best_only=True, save_weights_only=False, mode='auto', period=1)"
   ]
  },
  {
   "cell_type": "code",
   "execution_count": 24,
   "metadata": {},
   "outputs": [
    {
     "name": "stdout",
     "output_type": "stream",
     "text": [
      "Train on 9 samples, validate on 1 samples\n",
      "Epoch 1/5\n",
      "9/9 [==============================] - 2s 249ms/step - loss: 1.6091 - acc: 0.2222 - val_loss: 1.2817 - val_acc: 0.0000e+00\n",
      "Epoch 2/5\n",
      "9/9 [==============================] - 0s 17ms/step - loss: 1.1940 - acc: 0.5556 - val_loss: 1.0963 - val_acc: 0.0000e+00\n",
      "Epoch 3/5\n",
      "9/9 [==============================] - 0s 18ms/step - loss: 1.0252 - acc: 0.4444 - val_loss: 0.7195 - val_acc: 1.0000\n",
      "Epoch 4/5\n",
      "9/9 [==============================] - 0s 17ms/step - loss: 0.8780 - acc: 0.6667 - val_loss: 0.5274 - val_acc: 1.0000\n",
      "Epoch 5/5\n",
      "9/9 [==============================] - 0s 17ms/step - loss: 0.7729 - acc: 0.8889 - val_loss: 0.3719 - val_acc: 1.0000\n"
     ]
    },
    {
     "data": {
      "text/plain": [
       "<keras.callbacks.History at 0x1835eb2edd8>"
      ]
     },
     "execution_count": 24,
     "metadata": {},
     "output_type": "execute_result"
    }
   ],
   "source": [
    "model.fit(x = RN_input_small, \n",
    "          y = one_hot_labels, \n",
    "          epochs=5, \n",
    "          validation_split= 0.1, \n",
    "#           callbacks=[model_checkpoints]\n",
    "         )"
   ]
  },
  {
   "cell_type": "code",
   "execution_count": null,
   "metadata": {},
   "outputs": [],
   "source": []
  },
  {
   "cell_type": "code",
   "execution_count": null,
   "metadata": {},
   "outputs": [],
   "source": []
  },
  {
   "cell_type": "code",
   "execution_count": null,
   "metadata": {},
   "outputs": [],
   "source": []
  },
  {
   "cell_type": "code",
   "execution_count": null,
   "metadata": {},
   "outputs": [],
   "source": []
  },
  {
   "cell_type": "code",
   "execution_count": null,
   "metadata": {},
   "outputs": [],
   "source": []
  },
  {
   "cell_type": "code",
   "execution_count": null,
   "metadata": {},
   "outputs": [],
   "source": []
  },
  {
   "cell_type": "code",
   "execution_count": null,
   "metadata": {},
   "outputs": [],
   "source": []
  },
  {
   "cell_type": "code",
   "execution_count": null,
   "metadata": {},
   "outputs": [],
   "source": []
  },
  {
   "cell_type": "code",
   "execution_count": null,
   "metadata": {},
   "outputs": [],
   "source": []
  },
  {
   "cell_type": "code",
   "execution_count": null,
   "metadata": {},
   "outputs": [],
   "source": []
  },
  {
   "cell_type": "code",
   "execution_count": null,
   "metadata": {},
   "outputs": [],
   "source": []
  },
  {
   "cell_type": "code",
   "execution_count": null,
   "metadata": {},
   "outputs": [],
   "source": []
  },
  {
   "cell_type": "code",
   "execution_count": null,
   "metadata": {},
   "outputs": [],
   "source": []
  },
  {
   "cell_type": "code",
   "execution_count": null,
   "metadata": {},
   "outputs": [],
   "source": []
  },
  {
   "cell_type": "code",
   "execution_count": null,
   "metadata": {},
   "outputs": [],
   "source": []
  },
  {
   "cell_type": "code",
   "execution_count": null,
   "metadata": {},
   "outputs": [],
   "source": []
  },
  {
   "cell_type": "code",
   "execution_count": null,
   "metadata": {},
   "outputs": [],
   "source": []
  }
 ],
 "metadata": {
  "kernelspec": {
   "display_name": "Python 3",
   "language": "python",
   "name": "python3"
  },
  "language_info": {
   "codemirror_mode": {
    "name": "ipython",
    "version": 3
   },
   "file_extension": ".py",
   "mimetype": "text/x-python",
   "name": "python",
   "nbconvert_exporter": "python",
   "pygments_lexer": "ipython3",
   "version": "3.5.6"
  }
 },
 "nbformat": 4,
 "nbformat_minor": 2
}
