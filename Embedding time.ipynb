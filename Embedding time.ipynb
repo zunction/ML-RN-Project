{
 "cells": [
  {
   "cell_type": "code",
   "execution_count": 1,
   "metadata": {},
   "outputs": [
    {
     "name": "stdout",
     "output_type": "stream",
     "text": [
      "INFO:tensorflow:Using /tmp/tfhub_modules to cache modules.\n",
      "INFO:tensorflow:Saver not created because there are no variables in the graph to restore\n",
      "2.145632028579712\n"
     ]
    }
   ],
   "source": [
    "import tensorflow as tf\n",
    "import tensorflow_hub as hub\n",
    "import time\n",
    "\n",
    "# Import the Universal Sentence Encoder's TF Hub module\n",
    "embed = hub.Module(\"https://tfhub.dev/google/universal-sentence-encoder-large/3\")\n",
    "\n",
    "sentence = \"I am a sentence for which I would like to get its embedding.\"\n",
    "messages = [sentence]\n",
    "\n",
    "with tf.Session() as session:\n",
    "  session.run([tf.global_variables_initializer(), tf.tables_initializer()])\n",
    "  t1 = time.time()\n",
    "  message_embeddings = session.run(embed(messages))\n",
    "  print (time.time() - t1)"
   ]
  },
  {
   "cell_type": "markdown",
   "metadata": {},
   "source": [
    "Using this reference [https://github.com/tensorflow/hub/issues/40](https://github.com/tensorflow/hub/issues/40)"
   ]
  },
  {
   "cell_type": "code",
   "execution_count": 2,
   "metadata": {},
   "outputs": [
    {
     "name": "stdout",
     "output_type": "stream",
     "text": [
      "INFO:tensorflow:Saver not created because there are no variables in the graph to restore\n",
      "0.8474011421203613\n"
     ]
    }
   ],
   "source": [
    "with tf.Graph().as_default():\n",
    "  embed = hub.Module(\"https://tfhub.dev/google/universal-sentence-encoder-large/3\")\n",
    "\n",
    "  sentence = \"I am a sentence for which I would like to get its embedding.\"\n",
    "  messages = [sentence]\n",
    "  output = embed(messages)\n",
    " \n",
    "  with tf.Session() as session:\n",
    "    session.run([tf.global_variables_initializer(), tf.tables_initializer()])\n",
    "    t1 = time.time()\n",
    "    message_embeddings = session.run(output)\n",
    "    print(time.time() - t1)\n",
    "    \n",
    "    out = message_embeddings    "
   ]
  },
  {
   "cell_type": "code",
   "execution_count": 3,
   "metadata": {},
   "outputs": [
    {
     "name": "stdout",
     "output_type": "stream",
     "text": [
      "INFO:tensorflow:Saver not created because there are no variables in the graph to restore\n",
      "0.8439257144927979\n"
     ]
    }
   ],
   "source": [
    "with tf.Graph().as_default():\n",
    "  embed = hub.Module(\"https://tfhub.dev/google/universal-sentence-encoder-large/3\")\n",
    "\n",
    "#   sentence = \"I am a sentence for which I would like to get its embedding.\"\n",
    "  messages = ['mary went back to the garden.',\n",
    " 'mary went back to the kitchen.',\n",
    " 'john went to the kitchen.',\n",
    " 'mary got the football there.',\n",
    " 'sandra journeyed to the bedroom.',\n",
    " 'mary moved to the bathroom.']\n",
    "  output = embed(messages)\n",
    " \n",
    "  with tf.Session() as session:\n",
    "    session.run([tf.global_variables_initializer(), tf.tables_initializer()])\n",
    "    t1 = time.time()\n",
    "    message_embeddings = session.run(output)\n",
    "    print(time.time() - t1)\n",
    "\n",
    "    out = message_embeddings\n",
    "    "
   ]
  },
  {
   "cell_type": "code",
   "execution_count": 5,
   "metadata": {},
   "outputs": [
    {
     "name": "stdout",
     "output_type": "stream",
     "text": [
      "6\n",
      "512\n"
     ]
    }
   ],
   "source": [
    "print (len(out))\n",
    "print (len(out[0]))"
   ]
  },
  {
   "cell_type": "code",
   "execution_count": null,
   "metadata": {},
   "outputs": [],
   "source": []
  }
 ],
 "metadata": {
  "kernelspec": {
   "display_name": "Python 3",
   "language": "python",
   "name": "python3"
  },
  "language_info": {
   "codemirror_mode": {
    "name": "ipython",
    "version": 3
   },
   "file_extension": ".py",
   "mimetype": "text/x-python",
   "name": "python",
   "nbconvert_exporter": "python",
   "pygments_lexer": "ipython3",
   "version": "3.5.6"
  }
 },
 "nbformat": 4,
 "nbformat_minor": 2
}
